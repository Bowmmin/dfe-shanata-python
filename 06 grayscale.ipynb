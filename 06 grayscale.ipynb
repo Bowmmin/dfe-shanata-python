{
  "nbformat": 4,
  "nbformat_minor": 0,
  "metadata": {
    "colab": {
      "name": "HPE 03.ipynb",
      "provenance": [],
      "collapsed_sections": [],
      "include_colab_link": true
    },
    "kernelspec": {
      "name": "python3",
      "display_name": "Python 3"
    }
  },
  "cells": [
    {
      "cell_type": "markdown",
      "metadata": {
        "id": "view-in-github",
        "colab_type": "text"
      },
      "source": [
        "<a href=\"https://colab.research.google.com/github/Bowmmin/dfe-shanata-python/blob/main/06%20grayscale.ipynb\" target=\"_parent\"><img src=\"https://colab.research.google.com/assets/colab-badge.svg\" alt=\"Open In Colab\"/></a>"
      ]
    },
    {
      "cell_type": "code",
      "metadata": {
        "colab": {
          "base_uri": "https://localhost:8080/"
        },
        "id": "ct-xO-KMoWeA",
        "outputId": "980a9065-218d-4dbd-e940-23e9374106c8"
      },
      "source": [
        "# CLASSIFICATION\n",
        "%tensorflow_version 1.x\n",
        "import tensorflow as tf\n",
        "print(tf.__version__)"
      ],
      "execution_count": 1,
      "outputs": [
        {
          "output_type": "stream",
          "name": "stdout",
          "text": [
            "TensorFlow 1.x selected.\n",
            "1.15.2\n"
          ]
        }
      ]
    },
    {
      "cell_type": "code",
      "metadata": {
        "id": "UxkmrSbqprSX"
      },
      "source": [
        "from tensorflow import keras\n",
        "import numpy as np\n",
        "import matplotlib.pyplot as plt\n",
        "fashion = keras.datasets.fashion_mnist"
      ],
      "execution_count": 3,
      "outputs": []
    },
    {
      "cell_type": "code",
      "metadata": {
        "id": "vU0LOdoxqBz7",
        "outputId": "41acd15c-ca2f-4d97-de2c-db07f80c4cfe",
        "colab": {
          "base_uri": "https://localhost:8080/"
        }
      },
      "source": [
        "(trainimages,trainlabels), (testimages, testlabels) = fashion.load_data()\n",
        " "
      ],
      "execution_count": 4,
      "outputs": [
        {
          "output_type": "stream",
          "name": "stdout",
          "text": [
            "Downloading data from https://storage.googleapis.com/tensorflow/tf-keras-datasets/train-labels-idx1-ubyte.gz\n",
            "32768/29515 [=================================] - 0s 0us/step\n",
            "Downloading data from https://storage.googleapis.com/tensorflow/tf-keras-datasets/train-images-idx3-ubyte.gz\n",
            "26427392/26421880 [==============================] - 0s 0us/step\n",
            "Downloading data from https://storage.googleapis.com/tensorflow/tf-keras-datasets/t10k-labels-idx1-ubyte.gz\n",
            "8192/5148 [===============================================] - 0s 0us/step\n",
            "Downloading data from https://storage.googleapis.com/tensorflow/tf-keras-datasets/t10k-images-idx3-ubyte.gz\n",
            "4423680/4422102 [==============================] - 0s 0us/step\n"
          ]
        }
      ]
    },
    {
      "cell_type": "code",
      "metadata": {
        "colab": {
          "base_uri": "https://localhost:8080/"
        },
        "id": "XbVHuityqnlZ",
        "outputId": "ea48bedb-78b5-4f12-db4e-ecc8ca5768b7"
      },
      "source": [
        "trainimages.shape"
      ],
      "execution_count": 5,
      "outputs": [
        {
          "output_type": "execute_result",
          "data": {
            "text/plain": [
              "(60000, 28, 28)"
            ]
          },
          "metadata": {},
          "execution_count": 5
        }
      ]
    },
    {
      "cell_type": "code",
      "metadata": {
        "colab": {
          "base_uri": "https://localhost:8080/"
        },
        "id": "wOmzFCFRqrcK",
        "outputId": "f963b04b-82c3-40c1-874d-a511c3bb451a"
      },
      "source": [
        "len(trainlabels)"
      ],
      "execution_count": 6,
      "outputs": [
        {
          "output_type": "execute_result",
          "data": {
            "text/plain": [
              "60000"
            ]
          },
          "metadata": {},
          "execution_count": 6
        }
      ]
    },
    {
      "cell_type": "code",
      "metadata": {
        "colab": {
          "base_uri": "https://localhost:8080/"
        },
        "id": "VLXZ6I8bqvPB",
        "outputId": "a5187441-4543-4341-9251-9486a306c309"
      },
      "source": [
        "len(testlabels)"
      ],
      "execution_count": 7,
      "outputs": [
        {
          "output_type": "execute_result",
          "data": {
            "text/plain": [
              "10000"
            ]
          },
          "metadata": {},
          "execution_count": 7
        }
      ]
    },
    {
      "cell_type": "code",
      "metadata": {
        "colab": {
          "base_uri": "https://localhost:8080/",
          "height": 282
        },
        "id": "voGe7sGaq2Kv",
        "outputId": "0a6fe5a9-9ab9-4b40-e617-6fd2da589e75"
      },
      "source": [
        "classes = {0: 'T-shirt/top',\n",
        "1: 'Trouser',\n",
        "2: 'Pullover',\n",
        "3: 'Dress',\n",
        "4: 'Coat',\n",
        "5: 'Sandal',\n",
        "6: 'Shirt',\n",
        "7: 'Sneaker',\n",
        "8: 'Bag',\n",
        "9: 'Ankle boot'}\n",
        "\n",
        "x = 5\n",
        "plt.imshow(trainimages[x])\n",
        "print(classes[trainlabels[x]])"
      ],
      "execution_count": 12,
      "outputs": [
        {
          "output_type": "stream",
          "name": "stdout",
          "text": [
            "Pullover\n"
          ]
        },
        {
          "output_type": "display_data",
          "data": {
            "image/png": "[encoded data removed]",
            "text/plain": [
              "<Figure size 432x288 with 1 Axes>"
            ]
          },
          "metadata": {
            "needs_background": "light"
          }
        }
      ]
    },
    {
      "cell_type": "code",
      "metadata": {
        "colab": {
          "base_uri": "https://localhost:8080/"
        },
        "id": "oNwyZ68MrUAz",
        "outputId": "c0888950-992d-443a-bee0-39b1e3de734e"
      },
      "source": [
        "for i in range(10):\n",
        "  print(classes[trainlabels[i]])"
      ],
      "execution_count": 10,
      "outputs": [
        {
          "output_type": "stream",
          "name": "stdout",
          "text": [
            "Ankle boot\n",
            "T-shirt/top\n",
            "T-shirt/top\n",
            "Dress\n",
            "T-shirt/top\n",
            "Pullover\n",
            "Sneaker\n",
            "Pullover\n",
            "Sandal\n",
            "Sandal\n"
          ]
        }
      ]
    },
    {
      "cell_type": "code",
      "metadata": {
        "colab": {
          "base_uri": "https://localhost:8080/",
          "height": 283
        },
        "id": "IGPMvkGQtaTf",
        "outputId": "697ddbb8-520c-4235-a2dd-2d977a35d4be"
      },
      "source": [
        "\n",
        "x = 5\n",
        "plt.figure()\n",
        "plt.imshow(trainimages[x], cmap='gray')\n",
        "plt.colorbar()\n",
        "plt.grid(False)\n",
        "print(classes[trainlabels[x]])"
      ],
      "execution_count": null,
      "outputs": [
        {
          "output_type": "stream",
          "text": [
            "Pullover\n"
          ],
          "name": "stdout"
        },
        {
          "output_type": "display_data",
          "data": {
            "image/png": "[encoded data removed]",
            "text/plain": [
              "<Figure size 432x288 with 2 Axes>"
            ]
          },
          "metadata": {
            "tags": [],
            "needs_background": "light"
          }
        }
      ]
    },
    {
      "cell_type": "code",
      "metadata": {
        "colab": {
          "base_uri": "https://localhost:8080/",
          "height": 287
        },
        "id": "LQuB9gspt2Bc",
        "outputId": "2fccbd64-373b-4fd4-9868-6db72652bf85"
      },
      "source": [
        "# Smallest-> 0, Largest-> 255\n",
        "# Each pixel-> 1 byte-> 2^8-1\n",
        "# Entire dataset/ largest_num -> \n",
        "# smallest/largest-> value>0\n",
        "# largest/largest-> 1\n",
        "trainx = trainimages /255.0\n",
        "testx = testimages/255.0\n",
        "\n",
        "x = 5\n",
        "plt.figure()\n",
        "plt.imshow(trainx[x], cmap='gray')\n",
        "plt.colorbar()\n",
        "plt.grid(False)\n",
        "print(classes[trainlabels[x]])\n",
        "# Eigenvector => vector to which if you multiply a scalar value-> the vector does NOT change\n"
      ],
      "execution_count": null,
      "outputs": [
        {
          "output_type": "stream",
          "text": [
            "Pullover\n"
          ],
          "name": "stdout"
        },
        {
          "output_type": "display_data",
          "data": {
            "image/png": "[encoded data removed]",
            "text/plain": [
              "<Figure size 432x288 with 2 Axes>"
            ]
          },
          "metadata": {
            "tags": [],
            "needs_background": "light"
          }
        }
      ]
    },
    {
      "cell_type": "code",
      "metadata": {
        "id": "ME3wIlRYu8cU"
      },
      "source": [
        "# y = 1000*w1 + 10*w2 + 0.0003 *w3 + 0.04\n",
        "# w -> 0..1 \n",
        "# VERY Large numbers, away from smaller numbers\n"
      ],
      "execution_count": null,
      "outputs": []
    },
    {
      "cell_type": "code",
      "metadata": {
        "id": "mc-42n-DBWfa"
      },
      "source": [
        ""
      ],
      "execution_count": null,
      "outputs": []
    }
  ]
}