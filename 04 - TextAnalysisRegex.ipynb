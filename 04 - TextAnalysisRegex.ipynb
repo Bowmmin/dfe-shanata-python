{
  "nbformat": 4,
  "nbformat_minor": 0,
  "metadata": {
    "celltoolbar": "Slideshow",
    "kernelspec": {
      "display_name": "Python 3",
      "language": "python",
      "name": "python3"
    },
    "language_info": {
      "codemirror_mode": {
        "name": "ipython",
        "version": 3
      },
      "file_extension": ".py",
      "mimetype": "text/x-python",
      "name": "python",
      "nbconvert_exporter": "python",
      "pygments_lexer": "ipython3",
      "version": "3.7.4"
    },
    "colab": {
      "name": "04 - TextAnalysisRegex.ipynb",
      "provenance": []
    }
  },
  "cells": [
    {
      "cell_type": "markdown",
      "metadata": {
        "id": "YyddIrgsdWr3"
      },
      "source": [
        "# Exploratory Text Analysis\n",
        "\n",
        "## What kinds of text analysis are there?\n",
        "\n",
        "* analyst knows the pattern\n",
        "    * regular expressions\n",
        "* analyst does not know the pattern\n",
        "    * natural language processing\n",
        "        * compares historical examples to judge novel cases\n",
        "            * comparisons are statistical and approximate\n",
        "            "
      ]
    },
    {
      "cell_type": "markdown",
      "metadata": {
        "id": "aXzixkiUdWsG"
      },
      "source": [
        "### Examples of Analysis"
      ]
    },
    {
      "cell_type": "markdown",
      "metadata": {
        "id": "1zAORWgFdWsH"
      },
      "source": [
        "When you know the pattern:"
      ]
    },
    {
      "cell_type": "code",
      "metadata": {
        "id": "0pjrWIPWdWsJ"
      },
      "source": [
        "pattern = '£ ?[0-9][0-9]?' # £ then SPACE-optional then digit then digit-optional \n",
        "\n",
        "document = 'My eggs cost £3, bread cost £2, vodka cost £35'"
      ],
      "execution_count": 37,
      "outputs": []
    },
    {
      "cell_type": "code",
      "metadata": {
        "id": "hI-I-rcPdWsM"
      },
      "source": [
        "import re"
      ],
      "execution_count": 38,
      "outputs": []
    },
    {
      "cell_type": "code",
      "metadata": {
        "id": "nS571yCodWsP",
        "outputId": "2686653e-50af-456f-e95a-631221b72e01",
        "colab": {
          "base_uri": "https://localhost:8080/"
        }
      },
      "source": [
        "re.findall(pattern, document)"
      ],
      "execution_count": 39,
      "outputs": [
        {
          "output_type": "execute_result",
          "data": {
            "text/plain": [
              "['£3', '£2', '£35']"
            ]
          },
          "metadata": {},
          "execution_count": 39
        }
      ]
    },
    {
      "cell_type": "markdown",
      "metadata": {
        "id": "4_ifY7FgdWsP"
      },
      "source": [
        "If you dont:\n",
        "\n",
        "* sentiment analysis\n",
        "    * how positive/negative is this (new) review?\n",
        "* topic analysis \n",
        "    * what is this document about?"
      ]
    },
    {
      "cell_type": "markdown",
      "metadata": {
        "id": "SiVei4HudWsR"
      },
      "source": [
        "## What can I do if I know what pattern I want to find?\n",
        "\n",
        "* finding (\"extracting\")\n",
        "    * what matches the pattern?\n",
        "* matching (\"validating\")\n",
        "    * does the entire document match YES/NO?\n",
        "* substitue (\"replacing\")\n",
        "    * replace a part that matches a pattern with another..."
      ]
    },
    {
      "cell_type": "markdown",
      "metadata": {
        "id": "BsdtA7wcdWsW"
      },
      "source": [
        "## How do I validate text with pandas?"
      ]
    },
    {
      "cell_type": "code",
      "metadata": {
        "id": "9XCuwJKRdWsY"
      },
      "source": [
        "import pandas as pd"
      ],
      "execution_count": 40,
      "outputs": []
    },
    {
      "cell_type": "code",
      "metadata": {
        "id": "tZyLLajXdWsZ",
        "outputId": "854f271b-1d05-43e2-fdbc-3c67c8469896",
        "colab": {
          "base_uri": "https://localhost:8080/",
          "height": 81
        }
      },
      "source": [
        "ti = pd.read_csv('titanic.csv')\n",
        "ti.sample(1)"
      ],
      "execution_count": 60,
      "outputs": [
        {
          "output_type": "execute_result",
          "data": {
            "text/html": [
              "<div>\n",
              "<style scoped>\n",
              "    .dataframe tbody tr th:only-of-type {\n",
              "        vertical-align: middle;\n",
              "    }\n",
              "\n",
              "    .dataframe tbody tr th {\n",
              "        vertical-align: top;\n",
              "    }\n",
              "\n",
              "    .dataframe thead th {\n",
              "        text-align: right;\n",
              "    }\n",
              "</style>\n",
              "<table border=\"1\" class=\"dataframe\">\n",
              "  <thead>\n",
              "    <tr style=\"text-align: right;\">\n",
              "      <th></th>\n",
              "      <th>survived</th>\n",
              "      <th>pclass</th>\n",
              "      <th>sex</th>\n",
              "      <th>age</th>\n",
              "      <th>sibsp</th>\n",
              "      <th>parch</th>\n",
              "      <th>fare</th>\n",
              "      <th>embarked</th>\n",
              "      <th>class</th>\n",
              "      <th>who</th>\n",
              "      <th>adult_male</th>\n",
              "      <th>deck</th>\n",
              "      <th>embark_town</th>\n",
              "      <th>alive</th>\n",
              "      <th>alone</th>\n",
              "    </tr>\n",
              "  </thead>\n",
              "  <tbody>\n",
              "    <tr>\n",
              "      <th>853</th>\n",
              "      <td>1</td>\n",
              "      <td>1</td>\n",
              "      <td>female</td>\n",
              "      <td>16.0</td>\n",
              "      <td>0</td>\n",
              "      <td>1</td>\n",
              "      <td>39.4</td>\n",
              "      <td>S</td>\n",
              "      <td>First</td>\n",
              "      <td>woman</td>\n",
              "      <td>False</td>\n",
              "      <td>D</td>\n",
              "      <td>Southampton</td>\n",
              "      <td>yes</td>\n",
              "      <td>False</td>\n",
              "    </tr>\n",
              "  </tbody>\n",
              "</table>\n",
              "</div>"
            ],
            "text/plain": [
              "     survived  pclass     sex   age  ...  deck  embark_town  alive  alone\n",
              "853         1       1  female  16.0  ...     D  Southampton    yes  False\n",
              "\n",
              "[1 rows x 15 columns]"
            ]
          },
          "metadata": {},
          "execution_count": 60
        }
      ]
    },
    {
      "cell_type": "code",
      "metadata": {
        "id": "_S6U9huSdWsc"
      },
      "source": [
        "ti['ticket'] = \"Ticket: \" + ti['class'] + \"; Price: $ \" + ti['fare'].astype(str) + \"; Port: \" + ti['embark_town'] + \";\""
      ],
      "execution_count": 61,
      "outputs": []
    },
    {
      "cell_type": "code",
      "metadata": {
        "id": "66fbuRVwdWsc",
        "outputId": "f66a1892-57e5-4576-8015-bd225855f0bd",
        "colab": {
          "base_uri": "https://localhost:8080/",
          "height": 143
        }
      },
      "source": [
        "ti[['class', 'fare', 'embark_town', 'ticket']].head(3)"
      ],
      "execution_count": 62,
      "outputs": [
        {
          "output_type": "execute_result",
          "data": {
            "text/html": [
              "<div>\n",
              "<style scoped>\n",
              "    .dataframe tbody tr th:only-of-type {\n",
              "        vertical-align: middle;\n",
              "    }\n",
              "\n",
              "    .dataframe tbody tr th {\n",
              "        vertical-align: top;\n",
              "    }\n",
              "\n",
              "    .dataframe thead th {\n",
              "        text-align: right;\n",
              "    }\n",
              "</style>\n",
              "<table border=\"1\" class=\"dataframe\">\n",
              "  <thead>\n",
              "    <tr style=\"text-align: right;\">\n",
              "      <th></th>\n",
              "      <th>class</th>\n",
              "      <th>fare</th>\n",
              "      <th>embark_town</th>\n",
              "      <th>ticket</th>\n",
              "    </tr>\n",
              "  </thead>\n",
              "  <tbody>\n",
              "    <tr>\n",
              "      <th>0</th>\n",
              "      <td>Third</td>\n",
              "      <td>7.2500</td>\n",
              "      <td>Southampton</td>\n",
              "      <td>Ticket: Third; Price: $ 7.25; Port: Southampton;</td>\n",
              "    </tr>\n",
              "    <tr>\n",
              "      <th>1</th>\n",
              "      <td>First</td>\n",
              "      <td>71.2833</td>\n",
              "      <td>Cherbourg</td>\n",
              "      <td>Ticket: First; Price: $ 71.2833; Port: Cherbourg;</td>\n",
              "    </tr>\n",
              "    <tr>\n",
              "      <th>2</th>\n",
              "      <td>Third</td>\n",
              "      <td>7.9250</td>\n",
              "      <td>Southampton</td>\n",
              "      <td>Ticket: Third; Price: $ 7.925; Port: Southampton;</td>\n",
              "    </tr>\n",
              "  </tbody>\n",
              "</table>\n",
              "</div>"
            ],
            "text/plain": [
              "   class  ...                                             ticket\n",
              "0  Third  ...   Ticket: Third; Price: $ 7.25; Port: Southampton;\n",
              "1  First  ...  Ticket: First; Price: $ 71.2833; Port: Cherbourg;\n",
              "2  Third  ...  Ticket: Third; Price: $ 7.925; Port: Southampton;\n",
              "\n",
              "[3 rows x 4 columns]"
            ]
          },
          "metadata": {},
          "execution_count": 62
        }
      ]
    },
    {
      "cell_type": "code",
      "metadata": {
        "id": "LPcDWw8ZdWsd",
        "outputId": "86f49d09-fe27-4707-fcc2-cdb3b6f58e35",
        "colab": {
          "base_uri": "https://localhost:8080/"
        }
      },
      "source": [
        "pattern = '(First|Second)'\n",
        "\n",
        "ti['class'].str.match(pattern)"
      ],
      "execution_count": 63,
      "outputs": [
        {
          "output_type": "execute_result",
          "data": {
            "text/plain": [
              "0      False\n",
              "1       True\n",
              "2      False\n",
              "3       True\n",
              "4      False\n",
              "       ...  \n",
              "886     True\n",
              "887     True\n",
              "888    False\n",
              "889     True\n",
              "890    False\n",
              "Name: class, Length: 891, dtype: bool"
            ]
          },
          "metadata": {},
          "execution_count": 63
        }
      ]
    },
    {
      "cell_type": "code",
      "metadata": {
        "id": "vBg3YyUldWse",
        "outputId": "3d9f16c2-c01d-41c9-e140-c0ed89cd811f",
        "colab": {
          "base_uri": "https://localhost:8080/"
        }
      },
      "source": [
        "ti.loc[ ti['class'].str.match(pattern)  , 'survived'].mean()"
      ],
      "execution_count": 64,
      "outputs": [
        {
          "output_type": "execute_result",
          "data": {
            "text/plain": [
              "0.5575"
            ]
          },
          "metadata": {},
          "execution_count": 64
        }
      ]
    },
    {
      "cell_type": "code",
      "metadata": {
        "id": "J0cmirKTjXRF",
        "outputId": "dff48f02-d5f3-4170-c632-101ba6870708",
        "colab": {
          "base_uri": "https://localhost:8080/"
        }
      },
      "source": [
        "ti.loc[ ti['class'].str.match(pattern)  , 'survived']"
      ],
      "execution_count": 65,
      "outputs": [
        {
          "output_type": "execute_result",
          "data": {
            "text/plain": [
              "1      1\n",
              "3      1\n",
              "6      0\n",
              "9      1\n",
              "11     1\n",
              "      ..\n",
              "880    1\n",
              "883    0\n",
              "886    0\n",
              "887    1\n",
              "889    1\n",
              "Name: survived, Length: 400, dtype: int64"
            ]
          },
          "metadata": {},
          "execution_count": 65
        }
      ]
    },
    {
      "cell_type": "markdown",
      "metadata": {
        "id": "wnOg5ErldWsf"
      },
      "source": [
        "## How do I extract data with pandas?"
      ]
    },
    {
      "cell_type": "code",
      "metadata": {
        "id": "5tIK7s58dWsg",
        "outputId": "ae8a1e4d-ae00-49c2-8b86-a072ca967e7d",
        "colab": {
          "base_uri": "https://localhost:8080/",
          "height": 143
        }
      },
      "source": [
        "ti[['class', 'fare', 'embark_town', 'age', 'ticket']].head(3)"
      ],
      "execution_count": 68,
      "outputs": [
        {
          "output_type": "execute_result",
          "data": {
            "text/html": [
              "<div>\n",
              "<style scoped>\n",
              "    .dataframe tbody tr th:only-of-type {\n",
              "        vertical-align: middle;\n",
              "    }\n",
              "\n",
              "    .dataframe tbody tr th {\n",
              "        vertical-align: top;\n",
              "    }\n",
              "\n",
              "    .dataframe thead th {\n",
              "        text-align: right;\n",
              "    }\n",
              "</style>\n",
              "<table border=\"1\" class=\"dataframe\">\n",
              "  <thead>\n",
              "    <tr style=\"text-align: right;\">\n",
              "      <th></th>\n",
              "      <th>class</th>\n",
              "      <th>fare</th>\n",
              "      <th>embark_town</th>\n",
              "      <th>age</th>\n",
              "      <th>ticket</th>\n",
              "    </tr>\n",
              "  </thead>\n",
              "  <tbody>\n",
              "    <tr>\n",
              "      <th>0</th>\n",
              "      <td>Third</td>\n",
              "      <td>7.2500</td>\n",
              "      <td>Southampton</td>\n",
              "      <td>22.0</td>\n",
              "      <td>Ticket: Third; Price: $ 7.25; Port: Southampton;</td>\n",
              "    </tr>\n",
              "    <tr>\n",
              "      <th>1</th>\n",
              "      <td>First</td>\n",
              "      <td>71.2833</td>\n",
              "      <td>Cherbourg</td>\n",
              "      <td>38.0</td>\n",
              "      <td>Ticket: First; Price: $ 71.2833; Port: Cherbourg;</td>\n",
              "    </tr>\n",
              "    <tr>\n",
              "      <th>2</th>\n",
              "      <td>Third</td>\n",
              "      <td>7.9250</td>\n",
              "      <td>Southampton</td>\n",
              "      <td>26.0</td>\n",
              "      <td>Ticket: Third; Price: $ 7.925; Port: Southampton;</td>\n",
              "    </tr>\n",
              "  </tbody>\n",
              "</table>\n",
              "</div>"
            ],
            "text/plain": [
              "   class     fare  ...   age                                             ticket\n",
              "0  Third   7.2500  ...  22.0   Ticket: Third; Price: $ 7.25; Port: Southampton;\n",
              "1  First  71.2833  ...  38.0  Ticket: First; Price: $ 71.2833; Port: Cherbourg;\n",
              "2  Third   7.9250  ...  26.0  Ticket: Third; Price: $ 7.925; Port: Southampton;\n",
              "\n",
              "[3 rows x 5 columns]"
            ]
          },
          "metadata": {},
          "execution_count": 68
        }
      ]
    },
    {
      "cell_type": "code",
      "metadata": {
        "id": "lljj4dJsdWsh",
        "outputId": "1d1d8f75-3c39-45e0-ad71-f95c431eec29",
        "colab": {
          "base_uri": "https://localhost:8080/",
          "height": 175
        }
      },
      "source": [
        "pattern = '([0-9.]+)'\n",
        "\n",
        "ti['ticket'].str.extract(pattern).head(4)"
      ],
      "execution_count": 50,
      "outputs": [
        {
          "output_type": "execute_result",
          "data": {
            "text/html": [
              "<div>\n",
              "<style scoped>\n",
              "    .dataframe tbody tr th:only-of-type {\n",
              "        vertical-align: middle;\n",
              "    }\n",
              "\n",
              "    .dataframe tbody tr th {\n",
              "        vertical-align: top;\n",
              "    }\n",
              "\n",
              "    .dataframe thead th {\n",
              "        text-align: right;\n",
              "    }\n",
              "</style>\n",
              "<table border=\"1\" class=\"dataframe\">\n",
              "  <thead>\n",
              "    <tr style=\"text-align: right;\">\n",
              "      <th></th>\n",
              "      <th>0</th>\n",
              "    </tr>\n",
              "  </thead>\n",
              "  <tbody>\n",
              "    <tr>\n",
              "      <th>0</th>\n",
              "      <td>7.25</td>\n",
              "    </tr>\n",
              "    <tr>\n",
              "      <th>1</th>\n",
              "      <td>71.2833</td>\n",
              "    </tr>\n",
              "    <tr>\n",
              "      <th>2</th>\n",
              "      <td>7.925</td>\n",
              "    </tr>\n",
              "    <tr>\n",
              "      <th>3</th>\n",
              "      <td>53.1</td>\n",
              "    </tr>\n",
              "  </tbody>\n",
              "</table>\n",
              "</div>"
            ],
            "text/plain": [
              "         0\n",
              "0     7.25\n",
              "1  71.2833\n",
              "2    7.925\n",
              "3     53.1"
            ]
          },
          "metadata": {},
          "execution_count": 50
        }
      ]
    },
    {
      "cell_type": "markdown",
      "metadata": {
        "id": "4XlJw8-FdWsi"
      },
      "source": [
        "## How do I substitue text with pandas?"
      ]
    },
    {
      "cell_type": "code",
      "metadata": {
        "id": "yULiyNq7dWsi",
        "outputId": "57c40857-fc05-469e-c2cb-03577a878eab",
        "colab": {
          "base_uri": "https://localhost:8080/"
        }
      },
      "source": [
        "ti['ticket'].str.replace('$', '€').sample(1)"
      ],
      "execution_count": 51,
      "outputs": [
        {
          "output_type": "execute_result",
          "data": {
            "text/plain": [
              "304    Ticket: Third; Price: € 8.05; Port: Southampton;\n",
              "Name: ticket, dtype: object"
            ]
          },
          "metadata": {},
          "execution_count": 51
        }
      ]
    },
    {
      "cell_type": "markdown",
      "metadata": {
        "id": "p-9MaA9sdWsj"
      },
      "source": [
        "## What are regular expressions?"
      ]
    },
    {
      "cell_type": "markdown",
      "metadata": {
        "id": "RxNA1yCDdWsk"
      },
      "source": [
        "Regular expressions are a language for describing patterns in text. \n",
        "\n",
        "They are separate from python, but may be used within python program. (And elsewhere, eg., often in SQL). \n",
        "\n",
        "They are notoriously difficult to read and write; and as a separate language, an additional tool to learn. "
      ]
    },
    {
      "cell_type": "markdown",
      "metadata": {
        "id": "JdFBKrFbdWsk"
      },
      "source": [
        "## What regular expression patterns can I use?\n",
        "\n",
        "* literals\n",
        "    * `a`, find me an `a`\n",
        "    * `£`, find `£`\n",
        "    * `!` means `!` \n",
        "    * ... most symbols mean \"find me\"\n",
        "* `.`\n",
        "    * find any **single** symbol \n",
        "* character classes -- find a **single** symbol\n",
        "    * `[abc]` $\\rightarrow$ **either** a, b, c\n",
        "    * `[0-9]` $\\rightarrow$ **either** 0, 1, 2, 3,...9\n",
        "    * `[A-Z]` $\\rightarrow$ **either** capital A, B, ... Z\n",
        "    * inversions\n",
        "        * `[^abc]` $\\rightarrow$ **is not** `a` OR `b` OR `c`\n",
        "        * `[^a-zA-Z0-9 ]`  $\\rightarrow$ **is not** alphanumeric-ish\n",
        "    \n",
        "* alternatives -- find the character**s** given by...\n",
        "    * `(May|June|July)`  $\\rightarrow$ **the whole worlds** May OR June..\n",
        "    "
      ]
    },
    {
      "cell_type": "code",
      "metadata": {
        "id": "0WdvTe1WnIXS",
        "outputId": "9b2bb069-9009-409a-de58-5a06a46fa343",
        "colab": {
          "base_uri": "https://localhost:8080/"
        }
      },
      "source": [
        "ti['ticket']"
      ],
      "execution_count": 86,
      "outputs": [
        {
          "output_type": "execute_result",
          "data": {
            "text/plain": [
              "0       Ticket: Third; Price: $ 7.25; Port: Southampton;\n",
              "1      Ticket: First; Price: $ 71.2833; Port: Cherbourg;\n",
              "2      Ticket: Third; Price: $ 7.925; Port: Southampton;\n",
              "3       Ticket: First; Price: $ 53.1; Port: Southampton;\n",
              "4       Ticket: Third; Price: $ 8.05; Port: Southampton;\n",
              "                             ...                        \n",
              "886    Ticket: Second; Price: $ 13.0; Port: Southampton;\n",
              "887     Ticket: First; Price: $ 30.0; Port: Southampton;\n",
              "888    Ticket: Third; Price: $ 23.45; Port: Southampton;\n",
              "889       Ticket: First; Price: $ 30.0; Port: Cherbourg;\n",
              "890      Ticket: Third; Price: $ 7.75; Port: Queenstown;\n",
              "Name: ticket, Length: 891, dtype: object"
            ]
          },
          "metadata": {},
          "execution_count": 86
        }
      ]
    },
    {
      "cell_type": "code",
      "metadata": {
        "id": "poQt_73FlL2o",
        "outputId": "e7ba022f-ec28-437f-9156-4701f029a3e1",
        "colab": {
          "base_uri": "https://localhost:8080/"
        }
      },
      "source": [
        "ti['ticket'].head(3)"
      ],
      "execution_count": 91,
      "outputs": [
        {
          "output_type": "execute_result",
          "data": {
            "text/plain": [
              "0     Ticket: Third; Price: $ 7.25; Port: Southampton;\n",
              "1    Ticket: First; Price: $ 71.2833; Port: Cherbourg;\n",
              "2    Ticket: Third; Price: $ 7.925; Port: Southampton;\n",
              "Name: ticket, dtype: object"
            ]
          },
          "metadata": {},
          "execution_count": 91
        }
      ]
    },
    {
      "cell_type": "code",
      "metadata": {
        "id": "12ulAswkl4GT"
      },
      "source": [
        ""
      ],
      "execution_count": null,
      "outputs": []
    },
    {
      "cell_type": "code",
      "metadata": {
        "id": "nNmTpT0mdWsl"
      },
      "source": [
        "ti['ticket'].str.extract('(Ticket: (First|Second))')"
      ],
      "execution_count": null,
      "outputs": []
    },
    {
      "cell_type": "code",
      "metadata": {
        "id": "YIwLUmV1dWsm",
        "outputId": "df713411-1ba2-44d2-9ffa-4de1de9f29cf",
        "colab": {
          "base_uri": "https://localhost:8080/",
          "height": 424
        }
      },
      "source": [
        "ti['ticket'].str.extract('([0-9][0-9].[0-9])')"
      ],
      "execution_count": 83,
      "outputs": [
        {
          "output_type": "execute_result",
          "data": {
            "text/html": [
              "<div>\n",
              "<style scoped>\n",
              "    .dataframe tbody tr th:only-of-type {\n",
              "        vertical-align: middle;\n",
              "    }\n",
              "\n",
              "    .dataframe tbody tr th {\n",
              "        vertical-align: top;\n",
              "    }\n",
              "\n",
              "    .dataframe thead th {\n",
              "        text-align: right;\n",
              "    }\n",
              "</style>\n",
              "<table border=\"1\" class=\"dataframe\">\n",
              "  <thead>\n",
              "    <tr style=\"text-align: right;\">\n",
              "      <th></th>\n",
              "      <th>0</th>\n",
              "    </tr>\n",
              "  </thead>\n",
              "  <tbody>\n",
              "    <tr>\n",
              "      <th>0</th>\n",
              "      <td>NaN</td>\n",
              "    </tr>\n",
              "    <tr>\n",
              "      <th>1</th>\n",
              "      <td>71.2</td>\n",
              "    </tr>\n",
              "    <tr>\n",
              "      <th>2</th>\n",
              "      <td>NaN</td>\n",
              "    </tr>\n",
              "    <tr>\n",
              "      <th>3</th>\n",
              "      <td>53.1</td>\n",
              "    </tr>\n",
              "    <tr>\n",
              "      <th>4</th>\n",
              "      <td>NaN</td>\n",
              "    </tr>\n",
              "    <tr>\n",
              "      <th>...</th>\n",
              "      <td>...</td>\n",
              "    </tr>\n",
              "    <tr>\n",
              "      <th>886</th>\n",
              "      <td>13.0</td>\n",
              "    </tr>\n",
              "    <tr>\n",
              "      <th>887</th>\n",
              "      <td>30.0</td>\n",
              "    </tr>\n",
              "    <tr>\n",
              "      <th>888</th>\n",
              "      <td>23.4</td>\n",
              "    </tr>\n",
              "    <tr>\n",
              "      <th>889</th>\n",
              "      <td>30.0</td>\n",
              "    </tr>\n",
              "    <tr>\n",
              "      <th>890</th>\n",
              "      <td>NaN</td>\n",
              "    </tr>\n",
              "  </tbody>\n",
              "</table>\n",
              "<p>891 rows × 1 columns</p>\n",
              "</div>"
            ],
            "text/plain": [
              "        0\n",
              "0     NaN\n",
              "1    71.2\n",
              "2     NaN\n",
              "3    53.1\n",
              "4     NaN\n",
              "..    ...\n",
              "886  13.0\n",
              "887  30.0\n",
              "888  23.4\n",
              "889  30.0\n",
              "890   NaN\n",
              "\n",
              "[891 rows x 1 columns]"
            ]
          },
          "metadata": {},
          "execution_count": 83
        }
      ]
    },
    {
      "cell_type": "code",
      "metadata": {
        "id": "HK7wEwDMdWsm",
        "outputId": "9dec0aa8-696e-4833-91fd-b61c06117245",
        "colab": {
          "base_uri": "https://localhost:8080/"
        }
      },
      "source": [
        "ti['ticket'].head(1)"
      ],
      "execution_count": 77,
      "outputs": [
        {
          "output_type": "execute_result",
          "data": {
            "text/plain": [
              "0    Ticket: Third; Price: $ 7.25; Port: Southampton;\n",
              "Name: ticket, dtype: object"
            ]
          },
          "metadata": {},
          "execution_count": 77
        }
      ]
    },
    {
      "cell_type": "code",
      "metadata": {
        "id": "_lbAf6CfdWsm",
        "outputId": "450766e5-a8cf-4739-a776-3ba20ac35449",
        "colab": {
          "base_uri": "https://localhost:8080/",
          "height": 112
        }
      },
      "source": [
        "ti['ticket'].str.extract('(Ticket: [A-Z])').sample(2)"
      ],
      "execution_count": 76,
      "outputs": [
        {
          "output_type": "execute_result",
          "data": {
            "text/html": [
              "<div>\n",
              "<style scoped>\n",
              "    .dataframe tbody tr th:only-of-type {\n",
              "        vertical-align: middle;\n",
              "    }\n",
              "\n",
              "    .dataframe tbody tr th {\n",
              "        vertical-align: top;\n",
              "    }\n",
              "\n",
              "    .dataframe thead th {\n",
              "        text-align: right;\n",
              "    }\n",
              "</style>\n",
              "<table border=\"1\" class=\"dataframe\">\n",
              "  <thead>\n",
              "    <tr style=\"text-align: right;\">\n",
              "      <th></th>\n",
              "      <th>0</th>\n",
              "    </tr>\n",
              "  </thead>\n",
              "  <tbody>\n",
              "    <tr>\n",
              "      <th>350</th>\n",
              "      <td>Ticket: T</td>\n",
              "    </tr>\n",
              "    <tr>\n",
              "      <th>703</th>\n",
              "      <td>Ticket: T</td>\n",
              "    </tr>\n",
              "  </tbody>\n",
              "</table>\n",
              "</div>"
            ],
            "text/plain": [
              "             0\n",
              "350  Ticket: T\n",
              "703  Ticket: T"
            ]
          },
          "metadata": {},
          "execution_count": 76
        }
      ]
    },
    {
      "cell_type": "code",
      "metadata": {
        "id": "yTCes6CddWsn",
        "outputId": "275201d9-6ab6-4055-fcc3-54a4f7ed2839",
        "colab": {
          "base_uri": "https://localhost:8080/",
          "height": 143
        }
      },
      "source": [
        "ti['ticket'].str.extract('(T.....:.T)').head(3)"
      ],
      "execution_count": 82,
      "outputs": [
        {
          "output_type": "execute_result",
          "data": {
            "text/html": [
              "<div>\n",
              "<style scoped>\n",
              "    .dataframe tbody tr th:only-of-type {\n",
              "        vertical-align: middle;\n",
              "    }\n",
              "\n",
              "    .dataframe tbody tr th {\n",
              "        vertical-align: top;\n",
              "    }\n",
              "\n",
              "    .dataframe thead th {\n",
              "        text-align: right;\n",
              "    }\n",
              "</style>\n",
              "<table border=\"1\" class=\"dataframe\">\n",
              "  <thead>\n",
              "    <tr style=\"text-align: right;\">\n",
              "      <th></th>\n",
              "      <th>0</th>\n",
              "    </tr>\n",
              "  </thead>\n",
              "  <tbody>\n",
              "    <tr>\n",
              "      <th>0</th>\n",
              "      <td>Ticket: T</td>\n",
              "    </tr>\n",
              "    <tr>\n",
              "      <th>1</th>\n",
              "      <td>NaN</td>\n",
              "    </tr>\n",
              "    <tr>\n",
              "      <th>2</th>\n",
              "      <td>Ticket: T</td>\n",
              "    </tr>\n",
              "  </tbody>\n",
              "</table>\n",
              "</div>"
            ],
            "text/plain": [
              "           0\n",
              "0  Ticket: T\n",
              "1        NaN\n",
              "2  Ticket: T"
            ]
          },
          "metadata": {},
          "execution_count": 82
        }
      ]
    },
    {
      "cell_type": "code",
      "metadata": {
        "id": "fIDh29DwdWsn",
        "outputId": "2bb4376c-cd42-48bc-fc16-f77632431c47",
        "colab": {
          "base_uri": "https://localhost:8080/",
          "height": 143
        }
      },
      "source": [
        "ti['ticket'].str.extract('(Price: [^0-9A-Za-z] ..)').head(3)"
      ],
      "execution_count": 95,
      "outputs": [
        {
          "output_type": "execute_result",
          "data": {
            "text/html": [
              "<div>\n",
              "<style scoped>\n",
              "    .dataframe tbody tr th:only-of-type {\n",
              "        vertical-align: middle;\n",
              "    }\n",
              "\n",
              "    .dataframe tbody tr th {\n",
              "        vertical-align: top;\n",
              "    }\n",
              "\n",
              "    .dataframe thead th {\n",
              "        text-align: right;\n",
              "    }\n",
              "</style>\n",
              "<table border=\"1\" class=\"dataframe\">\n",
              "  <thead>\n",
              "    <tr style=\"text-align: right;\">\n",
              "      <th></th>\n",
              "      <th>0</th>\n",
              "    </tr>\n",
              "  </thead>\n",
              "  <tbody>\n",
              "    <tr>\n",
              "      <th>0</th>\n",
              "      <td>Price: $ 7.</td>\n",
              "    </tr>\n",
              "    <tr>\n",
              "      <th>1</th>\n",
              "      <td>Price: $ 71</td>\n",
              "    </tr>\n",
              "    <tr>\n",
              "      <th>2</th>\n",
              "      <td>Price: $ 7.</td>\n",
              "    </tr>\n",
              "  </tbody>\n",
              "</table>\n",
              "</div>"
            ],
            "text/plain": [
              "             0\n",
              "0  Price: $ 7.\n",
              "1  Price: $ 71\n",
              "2  Price: $ 7."
            ]
          },
          "metadata": {},
          "execution_count": 95
        }
      ]
    },
    {
      "cell_type": "code",
      "metadata": {
        "id": "E5wBhYaddWso",
        "outputId": "3b7f5ad8-b6aa-40c2-fcc9-ce56e27d9ce9",
        "colab": {
          "base_uri": "https://localhost:8080/",
          "height": 457
        }
      },
      "source": [
        "ti['ticket'].str.extract('(Port: (Cherbourg|Southampton))').head(13)"
      ],
      "execution_count": 94,
      "outputs": [
        {
          "output_type": "execute_result",
          "data": {
            "text/html": [
              "<div>\n",
              "<style scoped>\n",
              "    .dataframe tbody tr th:only-of-type {\n",
              "        vertical-align: middle;\n",
              "    }\n",
              "\n",
              "    .dataframe tbody tr th {\n",
              "        vertical-align: top;\n",
              "    }\n",
              "\n",
              "    .dataframe thead th {\n",
              "        text-align: right;\n",
              "    }\n",
              "</style>\n",
              "<table border=\"1\" class=\"dataframe\">\n",
              "  <thead>\n",
              "    <tr style=\"text-align: right;\">\n",
              "      <th></th>\n",
              "      <th>0</th>\n",
              "      <th>1</th>\n",
              "    </tr>\n",
              "  </thead>\n",
              "  <tbody>\n",
              "    <tr>\n",
              "      <th>0</th>\n",
              "      <td>Port: Southampton</td>\n",
              "      <td>Southampton</td>\n",
              "    </tr>\n",
              "    <tr>\n",
              "      <th>1</th>\n",
              "      <td>Port: Cherbourg</td>\n",
              "      <td>Cherbourg</td>\n",
              "    </tr>\n",
              "    <tr>\n",
              "      <th>2</th>\n",
              "      <td>Port: Southampton</td>\n",
              "      <td>Southampton</td>\n",
              "    </tr>\n",
              "    <tr>\n",
              "      <th>3</th>\n",
              "      <td>Port: Southampton</td>\n",
              "      <td>Southampton</td>\n",
              "    </tr>\n",
              "    <tr>\n",
              "      <th>4</th>\n",
              "      <td>Port: Southampton</td>\n",
              "      <td>Southampton</td>\n",
              "    </tr>\n",
              "    <tr>\n",
              "      <th>5</th>\n",
              "      <td>NaN</td>\n",
              "      <td>NaN</td>\n",
              "    </tr>\n",
              "    <tr>\n",
              "      <th>6</th>\n",
              "      <td>Port: Southampton</td>\n",
              "      <td>Southampton</td>\n",
              "    </tr>\n",
              "    <tr>\n",
              "      <th>7</th>\n",
              "      <td>Port: Southampton</td>\n",
              "      <td>Southampton</td>\n",
              "    </tr>\n",
              "    <tr>\n",
              "      <th>8</th>\n",
              "      <td>Port: Southampton</td>\n",
              "      <td>Southampton</td>\n",
              "    </tr>\n",
              "    <tr>\n",
              "      <th>9</th>\n",
              "      <td>Port: Cherbourg</td>\n",
              "      <td>Cherbourg</td>\n",
              "    </tr>\n",
              "    <tr>\n",
              "      <th>10</th>\n",
              "      <td>Port: Southampton</td>\n",
              "      <td>Southampton</td>\n",
              "    </tr>\n",
              "    <tr>\n",
              "      <th>11</th>\n",
              "      <td>Port: Southampton</td>\n",
              "      <td>Southampton</td>\n",
              "    </tr>\n",
              "    <tr>\n",
              "      <th>12</th>\n",
              "      <td>Port: Southampton</td>\n",
              "      <td>Southampton</td>\n",
              "    </tr>\n",
              "  </tbody>\n",
              "</table>\n",
              "</div>"
            ],
            "text/plain": [
              "                    0            1\n",
              "0   Port: Southampton  Southampton\n",
              "1     Port: Cherbourg    Cherbourg\n",
              "2   Port: Southampton  Southampton\n",
              "3   Port: Southampton  Southampton\n",
              "4   Port: Southampton  Southampton\n",
              "5                 NaN          NaN\n",
              "6   Port: Southampton  Southampton\n",
              "7   Port: Southampton  Southampton\n",
              "8   Port: Southampton  Southampton\n",
              "9     Port: Cherbourg    Cherbourg\n",
              "10  Port: Southampton  Southampton\n",
              "11  Port: Southampton  Southampton\n",
              "12  Port: Southampton  Southampton"
            ]
          },
          "metadata": {},
          "execution_count": 94
        }
      ]
    },
    {
      "cell_type": "markdown",
      "metadata": {
        "id": "yg-aEL3LdWso"
      },
      "source": [
        "* repetitions\n",
        "    * optional `?`\n",
        "        * an optional number: `[0-9]?`\n",
        "    * one or more `+`\n",
        "        * one or more spaces: ` +`  \n",
        "    * optional, or more, `*`\n",
        "        * ` [0-9][0-9]?.[0-9]*`\n",
        "    "
      ]
    },
    {
      "cell_type": "code",
      "metadata": {
        "id": "joAOgl7OdWso",
        "outputId": "a6dd604c-c75c-4368-d060-789d2694387e",
        "colab": {
          "base_uri": "https://localhost:8080/",
          "height": 143
        }
      },
      "source": [
        "ti['ticket'].str.extract('([0-9][0-9]?.[0-9]*)').sample(3)"
      ],
      "execution_count": 96,
      "outputs": [
        {
          "output_type": "execute_result",
          "data": {
            "text/html": [
              "<div>\n",
              "<style scoped>\n",
              "    .dataframe tbody tr th:only-of-type {\n",
              "        vertical-align: middle;\n",
              "    }\n",
              "\n",
              "    .dataframe tbody tr th {\n",
              "        vertical-align: top;\n",
              "    }\n",
              "\n",
              "    .dataframe thead th {\n",
              "        text-align: right;\n",
              "    }\n",
              "</style>\n",
              "<table border=\"1\" class=\"dataframe\">\n",
              "  <thead>\n",
              "    <tr style=\"text-align: right;\">\n",
              "      <th></th>\n",
              "      <th>0</th>\n",
              "    </tr>\n",
              "  </thead>\n",
              "  <tbody>\n",
              "    <tr>\n",
              "      <th>538</th>\n",
              "      <td>14.5</td>\n",
              "    </tr>\n",
              "    <tr>\n",
              "      <th>283</th>\n",
              "      <td>8.05</td>\n",
              "    </tr>\n",
              "    <tr>\n",
              "      <th>238</th>\n",
              "      <td>10.5</td>\n",
              "    </tr>\n",
              "  </tbody>\n",
              "</table>\n",
              "</div>"
            ],
            "text/plain": [
              "        0\n",
              "538  14.5\n",
              "283  8.05\n",
              "238  10.5"
            ]
          },
          "metadata": {},
          "execution_count": 96
        }
      ]
    },
    {
      "cell_type": "code",
      "metadata": {
        "id": "ZZMqaLbzdWsp",
        "outputId": "9380c994-d8b3-4b99-db14-819344e2657e",
        "colab": {
          "base_uri": "https://localhost:8080/",
          "height": 143
        }
      },
      "source": [
        "ti['ticket'].str.extract('(Ticket: [a-zA-Z]+)').sample(3)"
      ],
      "execution_count": 97,
      "outputs": [
        {
          "output_type": "execute_result",
          "data": {
            "text/html": [
              "<div>\n",
              "<style scoped>\n",
              "    .dataframe tbody tr th:only-of-type {\n",
              "        vertical-align: middle;\n",
              "    }\n",
              "\n",
              "    .dataframe tbody tr th {\n",
              "        vertical-align: top;\n",
              "    }\n",
              "\n",
              "    .dataframe thead th {\n",
              "        text-align: right;\n",
              "    }\n",
              "</style>\n",
              "<table border=\"1\" class=\"dataframe\">\n",
              "  <thead>\n",
              "    <tr style=\"text-align: right;\">\n",
              "      <th></th>\n",
              "      <th>0</th>\n",
              "    </tr>\n",
              "  </thead>\n",
              "  <tbody>\n",
              "    <tr>\n",
              "      <th>696</th>\n",
              "      <td>Ticket: Third</td>\n",
              "    </tr>\n",
              "    <tr>\n",
              "      <th>415</th>\n",
              "      <td>Ticket: Third</td>\n",
              "    </tr>\n",
              "    <tr>\n",
              "      <th>516</th>\n",
              "      <td>Ticket: Second</td>\n",
              "    </tr>\n",
              "  </tbody>\n",
              "</table>\n",
              "</div>"
            ],
            "text/plain": [
              "                  0\n",
              "696   Ticket: Third\n",
              "415   Ticket: Third\n",
              "516  Ticket: Second"
            ]
          },
          "metadata": {},
          "execution_count": 97
        }
      ]
    },
    {
      "cell_type": "code",
      "metadata": {
        "id": "GEIyPTmQdWsp",
        "outputId": "cd990fca-2cb0-4110-a061-33b7244a8709",
        "colab": {
          "base_uri": "https://localhost:8080/"
        }
      },
      "source": [
        "row = 0\n",
        "match = 1 # second match\n",
        "\n",
        "ti['ticket'].str.extractall('([a-zA-Z]+: [a-zA-Z]+)').loc[row, match]"
      ],
      "execution_count": 98,
      "outputs": [
        {
          "output_type": "execute_result",
          "data": {
            "text/plain": [
              "0    Port: Southampton\n",
              "Name: (0, 1), dtype: object"
            ]
          },
          "metadata": {},
          "execution_count": 98
        }
      ]
    },
    {
      "cell_type": "code",
      "metadata": {
        "id": "M1vW3KKkdWsr",
        "outputId": "89fec36c-7270-446d-b061-43ed9fbaec6d",
        "colab": {
          "base_uri": "https://localhost:8080/",
          "height": 424
        }
      },
      "source": [
        "ti['ticket'].str.extract('([a-zA-Z]+tow?n)')"
      ],
      "execution_count": 99,
      "outputs": [
        {
          "output_type": "execute_result",
          "data": {
            "text/html": [
              "<div>\n",
              "<style scoped>\n",
              "    .dataframe tbody tr th:only-of-type {\n",
              "        vertical-align: middle;\n",
              "    }\n",
              "\n",
              "    .dataframe tbody tr th {\n",
              "        vertical-align: top;\n",
              "    }\n",
              "\n",
              "    .dataframe thead th {\n",
              "        text-align: right;\n",
              "    }\n",
              "</style>\n",
              "<table border=\"1\" class=\"dataframe\">\n",
              "  <thead>\n",
              "    <tr style=\"text-align: right;\">\n",
              "      <th></th>\n",
              "      <th>0</th>\n",
              "    </tr>\n",
              "  </thead>\n",
              "  <tbody>\n",
              "    <tr>\n",
              "      <th>0</th>\n",
              "      <td>Southampton</td>\n",
              "    </tr>\n",
              "    <tr>\n",
              "      <th>1</th>\n",
              "      <td>NaN</td>\n",
              "    </tr>\n",
              "    <tr>\n",
              "      <th>2</th>\n",
              "      <td>Southampton</td>\n",
              "    </tr>\n",
              "    <tr>\n",
              "      <th>3</th>\n",
              "      <td>Southampton</td>\n",
              "    </tr>\n",
              "    <tr>\n",
              "      <th>4</th>\n",
              "      <td>Southampton</td>\n",
              "    </tr>\n",
              "    <tr>\n",
              "      <th>...</th>\n",
              "      <td>...</td>\n",
              "    </tr>\n",
              "    <tr>\n",
              "      <th>886</th>\n",
              "      <td>Southampton</td>\n",
              "    </tr>\n",
              "    <tr>\n",
              "      <th>887</th>\n",
              "      <td>Southampton</td>\n",
              "    </tr>\n",
              "    <tr>\n",
              "      <th>888</th>\n",
              "      <td>Southampton</td>\n",
              "    </tr>\n",
              "    <tr>\n",
              "      <th>889</th>\n",
              "      <td>NaN</td>\n",
              "    </tr>\n",
              "    <tr>\n",
              "      <th>890</th>\n",
              "      <td>Queenstown</td>\n",
              "    </tr>\n",
              "  </tbody>\n",
              "</table>\n",
              "<p>891 rows × 1 columns</p>\n",
              "</div>"
            ],
            "text/plain": [
              "               0\n",
              "0    Southampton\n",
              "1            NaN\n",
              "2    Southampton\n",
              "3    Southampton\n",
              "4    Southampton\n",
              "..           ...\n",
              "886  Southampton\n",
              "887  Southampton\n",
              "888  Southampton\n",
              "889          NaN\n",
              "890   Queenstown\n",
              "\n",
              "[891 rows x 1 columns]"
            ]
          },
          "metadata": {},
          "execution_count": 99
        }
      ]
    },
    {
      "cell_type": "markdown",
      "metadata": {
        "id": "yCTyaHJEdWst"
      },
      "source": [
        "* EXTRA: \n",
        "    * escaping\n",
        "        * How do I say, literally, the `.` symbol?\n",
        "        * `\\.`\n",
        "    "
      ]
    },
    {
      "cell_type": "code",
      "metadata": {
        "id": "nuR3v4KLdWsu",
        "outputId": "88affe97-50a4-41ec-d99d-8791f24eed42",
        "colab": {
          "base_uri": "https://localhost:8080/",
          "height": 112
        }
      },
      "source": [
        "ti['ticket'].str.extract('(\\$ [0-9]+\\.[0-9]+)').head(2)"
      ],
      "execution_count": 101,
      "outputs": [
        {
          "output_type": "execute_result",
          "data": {
            "text/html": [
              "<div>\n",
              "<style scoped>\n",
              "    .dataframe tbody tr th:only-of-type {\n",
              "        vertical-align: middle;\n",
              "    }\n",
              "\n",
              "    .dataframe tbody tr th {\n",
              "        vertical-align: top;\n",
              "    }\n",
              "\n",
              "    .dataframe thead th {\n",
              "        text-align: right;\n",
              "    }\n",
              "</style>\n",
              "<table border=\"1\" class=\"dataframe\">\n",
              "  <thead>\n",
              "    <tr style=\"text-align: right;\">\n",
              "      <th></th>\n",
              "      <th>0</th>\n",
              "    </tr>\n",
              "  </thead>\n",
              "  <tbody>\n",
              "    <tr>\n",
              "      <th>0</th>\n",
              "      <td>$ 7.25</td>\n",
              "    </tr>\n",
              "    <tr>\n",
              "      <th>1</th>\n",
              "      <td>$ 71.2833</td>\n",
              "    </tr>\n",
              "  </tbody>\n",
              "</table>\n",
              "</div>"
            ],
            "text/plain": [
              "           0\n",
              "0     $ 7.25\n",
              "1  $ 71.2833"
            ]
          },
          "metadata": {},
          "execution_count": 101
        }
      ]
    },
    {
      "cell_type": "markdown",
      "metadata": {
        "id": "w96ED4BadWsv"
      },
      "source": [
        "* positional matching\n",
        "    * `^` means **at the beginning**\n",
        "    * `$` means **at the end**"
      ]
    },
    {
      "cell_type": "code",
      "metadata": {
        "id": "qG0yg-jhdWsv",
        "outputId": "bb473fc4-768f-4500-9a5a-9857ed0200e3",
        "colab": {
          "base_uri": "https://localhost:8080/",
          "height": 238
        }
      },
      "source": [
        "ti['ticket'].str.extractall('([a-zA-Z]+: [a-zA-Z]+;$)').sample(5)"
      ],
      "execution_count": 105,
      "outputs": [
        {
          "output_type": "execute_result",
          "data": {
            "text/html": [
              "<div>\n",
              "<style scoped>\n",
              "    .dataframe tbody tr th:only-of-type {\n",
              "        vertical-align: middle;\n",
              "    }\n",
              "\n",
              "    .dataframe tbody tr th {\n",
              "        vertical-align: top;\n",
              "    }\n",
              "\n",
              "    .dataframe thead th {\n",
              "        text-align: right;\n",
              "    }\n",
              "</style>\n",
              "<table border=\"1\" class=\"dataframe\">\n",
              "  <thead>\n",
              "    <tr style=\"text-align: right;\">\n",
              "      <th></th>\n",
              "      <th></th>\n",
              "      <th>0</th>\n",
              "    </tr>\n",
              "    <tr>\n",
              "      <th></th>\n",
              "      <th>match</th>\n",
              "      <th></th>\n",
              "    </tr>\n",
              "  </thead>\n",
              "  <tbody>\n",
              "    <tr>\n",
              "      <th>367</th>\n",
              "      <th>0</th>\n",
              "      <td>Port: Cherbourg;</td>\n",
              "    </tr>\n",
              "    <tr>\n",
              "      <th>733</th>\n",
              "      <th>0</th>\n",
              "      <td>Port: Southampton;</td>\n",
              "    </tr>\n",
              "    <tr>\n",
              "      <th>855</th>\n",
              "      <th>0</th>\n",
              "      <td>Port: Southampton;</td>\n",
              "    </tr>\n",
              "    <tr>\n",
              "      <th>271</th>\n",
              "      <th>0</th>\n",
              "      <td>Port: Southampton;</td>\n",
              "    </tr>\n",
              "    <tr>\n",
              "      <th>97</th>\n",
              "      <th>0</th>\n",
              "      <td>Port: Cherbourg;</td>\n",
              "    </tr>\n",
              "  </tbody>\n",
              "</table>\n",
              "</div>"
            ],
            "text/plain": [
              "                            0\n",
              "    match                    \n",
              "367 0        Port: Cherbourg;\n",
              "733 0      Port: Southampton;\n",
              "855 0      Port: Southampton;\n",
              "271 0      Port: Southampton;\n",
              "97  0        Port: Cherbourg;"
            ]
          },
          "metadata": {},
          "execution_count": 105
        }
      ]
    },
    {
      "cell_type": "code",
      "metadata": {
        "id": "DGTJAW82dWsv",
        "outputId": "8264e494-e501-472f-f1d2-e0eacc224e7c"
      },
      "source": [
        "ti['ticket'].str.extractall('(^[a-zA-Z]+: [a-zA-Z]+;)').sample(1)"
      ],
      "execution_count": null,
      "outputs": [
        {
          "data": {
            "text/html": [
              "<div>\n",
              "<style scoped>\n",
              "    .dataframe tbody tr th:only-of-type {\n",
              "        vertical-align: middle;\n",
              "    }\n",
              "\n",
              "    .dataframe tbody tr th {\n",
              "        vertical-align: top;\n",
              "    }\n",
              "\n",
              "    .dataframe thead th {\n",
              "        text-align: right;\n",
              "    }\n",
              "</style>\n",
              "<table border=\"1\" class=\"dataframe\">\n",
              "  <thead>\n",
              "    <tr style=\"text-align: right;\">\n",
              "      <th></th>\n",
              "      <th></th>\n",
              "      <th>0</th>\n",
              "    </tr>\n",
              "    <tr>\n",
              "      <th></th>\n",
              "      <th>match</th>\n",
              "      <th></th>\n",
              "    </tr>\n",
              "  </thead>\n",
              "  <tbody>\n",
              "    <tr>\n",
              "      <th>2</th>\n",
              "      <th>0</th>\n",
              "      <td>Ticket: Third;</td>\n",
              "    </tr>\n",
              "  </tbody>\n",
              "</table>\n",
              "</div>"
            ],
            "text/plain": [
              "                      0\n",
              "  match                \n",
              "2 0      Ticket: Third;"
            ]
          },
          "execution_count": 10,
          "metadata": {},
          "output_type": "execute_result"
        }
      ]
    },
    {
      "cell_type": "markdown",
      "metadata": {
        "id": "awMJcHURdWsw"
      },
      "source": [
        "## Next Steps\n",
        "\n",
        "* review a \"Regex Cheat Sheet\"\n",
        "    * also, eg., https://en.wikipedia.org/wiki/Regular_expression#Examples"
      ]
    },
    {
      "cell_type": "markdown",
      "metadata": {
        "id": "qXdGWGJmdWsw"
      },
      "source": [
        "## Exercise (30 min)\n",
        "\n",
        "* find all the words in the tickets \n",
        "    * HINT: a word is a repeated letter followed by a space or a colon\n",
        "    * HINT: `[ :]` means a space or a colon\n",
        "* find all the USD prices\n",
        "    * HINT: ``` \\$ ``` and repeated numbers \n",
        "    \n",
        "* find all the high-price tickets\n",
        "    * HINT: consider `\\$`, tripple-digit number, `\\.`"
      ]
    },
    {
      "cell_type": "code",
      "metadata": {
        "id": "EURJ8JKldWsx"
      },
      "source": [
        "Solution"
      ],
      "execution_count": null,
      "outputs": []
    },
    {
      "cell_type": "code",
      "metadata": {
        "id": "-ChYD9wndWsx",
        "outputId": "a282adfe-7c81-4279-af48-e4d06be6d5dc",
        "colab": {
          "base_uri": "https://localhost:8080/"
        }
      },
      "source": [
        "ti['ticket'].str.findall('([a-zA-Z]+[ :])').head(10)"
      ],
      "execution_count": 114,
      "outputs": [
        {
          "output_type": "execute_result",
          "data": {
            "text/plain": [
              "0    [Ticket:, Price:, Port:]\n",
              "1    [Ticket:, Price:, Port:]\n",
              "2    [Ticket:, Price:, Port:]\n",
              "3    [Ticket:, Price:, Port:]\n",
              "4    [Ticket:, Price:, Port:]\n",
              "5    [Ticket:, Price:, Port:]\n",
              "6    [Ticket:, Price:, Port:]\n",
              "7    [Ticket:, Price:, Port:]\n",
              "8    [Ticket:, Price:, Port:]\n",
              "9    [Ticket:, Price:, Port:]\n",
              "Name: ticket, dtype: object"
            ]
          },
          "metadata": {},
          "execution_count": 114
        }
      ]
    },
    {
      "cell_type": "code",
      "metadata": {
        "id": "R7aepTiZdWsx",
        "outputId": "85b2e942-f62d-454a-839f-01cdb88094da",
        "colab": {
          "base_uri": "https://localhost:8080/",
          "height": 424
        }
      },
      "source": [
        "ti['ticket'].str.extract('(\\$ [0-9]+\\.[0-9]+)')"
      ],
      "execution_count": 122,
      "outputs": [
        {
          "output_type": "execute_result",
          "data": {
            "text/html": [
              "<div>\n",
              "<style scoped>\n",
              "    .dataframe tbody tr th:only-of-type {\n",
              "        vertical-align: middle;\n",
              "    }\n",
              "\n",
              "    .dataframe tbody tr th {\n",
              "        vertical-align: top;\n",
              "    }\n",
              "\n",
              "    .dataframe thead th {\n",
              "        text-align: right;\n",
              "    }\n",
              "</style>\n",
              "<table border=\"1\" class=\"dataframe\">\n",
              "  <thead>\n",
              "    <tr style=\"text-align: right;\">\n",
              "      <th></th>\n",
              "      <th>0</th>\n",
              "    </tr>\n",
              "  </thead>\n",
              "  <tbody>\n",
              "    <tr>\n",
              "      <th>0</th>\n",
              "      <td>$ 7.25</td>\n",
              "    </tr>\n",
              "    <tr>\n",
              "      <th>1</th>\n",
              "      <td>$ 71.2833</td>\n",
              "    </tr>\n",
              "    <tr>\n",
              "      <th>2</th>\n",
              "      <td>$ 7.925</td>\n",
              "    </tr>\n",
              "    <tr>\n",
              "      <th>3</th>\n",
              "      <td>$ 53.1</td>\n",
              "    </tr>\n",
              "    <tr>\n",
              "      <th>4</th>\n",
              "      <td>$ 8.05</td>\n",
              "    </tr>\n",
              "    <tr>\n",
              "      <th>...</th>\n",
              "      <td>...</td>\n",
              "    </tr>\n",
              "    <tr>\n",
              "      <th>886</th>\n",
              "      <td>$ 13.0</td>\n",
              "    </tr>\n",
              "    <tr>\n",
              "      <th>887</th>\n",
              "      <td>$ 30.0</td>\n",
              "    </tr>\n",
              "    <tr>\n",
              "      <th>888</th>\n",
              "      <td>$ 23.45</td>\n",
              "    </tr>\n",
              "    <tr>\n",
              "      <th>889</th>\n",
              "      <td>$ 30.0</td>\n",
              "    </tr>\n",
              "    <tr>\n",
              "      <th>890</th>\n",
              "      <td>$ 7.75</td>\n",
              "    </tr>\n",
              "  </tbody>\n",
              "</table>\n",
              "<p>891 rows × 1 columns</p>\n",
              "</div>"
            ],
            "text/plain": [
              "             0\n",
              "0       $ 7.25\n",
              "1    $ 71.2833\n",
              "2      $ 7.925\n",
              "3       $ 53.1\n",
              "4       $ 8.05\n",
              "..         ...\n",
              "886     $ 13.0\n",
              "887     $ 30.0\n",
              "888    $ 23.45\n",
              "889     $ 30.0\n",
              "890     $ 7.75\n",
              "\n",
              "[891 rows x 1 columns]"
            ]
          },
          "metadata": {},
          "execution_count": 122
        }
      ]
    },
    {
      "cell_type": "code",
      "metadata": {
        "id": "FoBDVwi5uX5P",
        "outputId": "44ba2d6a-3035-499a-b6fa-7b0ca4b7544d",
        "colab": {
          "base_uri": "https://localhost:8080/",
          "height": 455
        }
      },
      "source": [
        "ti['ticket'].str.extractall('(\\$ [0-9]+\\.[0-9]+)')"
      ],
      "execution_count": 121,
      "outputs": [
        {
          "output_type": "execute_result",
          "data": {
            "text/html": [
              "<div>\n",
              "<style scoped>\n",
              "    .dataframe tbody tr th:only-of-type {\n",
              "        vertical-align: middle;\n",
              "    }\n",
              "\n",
              "    .dataframe tbody tr th {\n",
              "        vertical-align: top;\n",
              "    }\n",
              "\n",
              "    .dataframe thead th {\n",
              "        text-align: right;\n",
              "    }\n",
              "</style>\n",
              "<table border=\"1\" class=\"dataframe\">\n",
              "  <thead>\n",
              "    <tr style=\"text-align: right;\">\n",
              "      <th></th>\n",
              "      <th></th>\n",
              "      <th>0</th>\n",
              "    </tr>\n",
              "    <tr>\n",
              "      <th></th>\n",
              "      <th>match</th>\n",
              "      <th></th>\n",
              "    </tr>\n",
              "  </thead>\n",
              "  <tbody>\n",
              "    <tr>\n",
              "      <th>0</th>\n",
              "      <th>0</th>\n",
              "      <td>$ 7.25</td>\n",
              "    </tr>\n",
              "    <tr>\n",
              "      <th>1</th>\n",
              "      <th>0</th>\n",
              "      <td>$ 71.2833</td>\n",
              "    </tr>\n",
              "    <tr>\n",
              "      <th>2</th>\n",
              "      <th>0</th>\n",
              "      <td>$ 7.925</td>\n",
              "    </tr>\n",
              "    <tr>\n",
              "      <th>3</th>\n",
              "      <th>0</th>\n",
              "      <td>$ 53.1</td>\n",
              "    </tr>\n",
              "    <tr>\n",
              "      <th>4</th>\n",
              "      <th>0</th>\n",
              "      <td>$ 8.05</td>\n",
              "    </tr>\n",
              "    <tr>\n",
              "      <th>...</th>\n",
              "      <th>...</th>\n",
              "      <td>...</td>\n",
              "    </tr>\n",
              "    <tr>\n",
              "      <th>886</th>\n",
              "      <th>0</th>\n",
              "      <td>$ 13.0</td>\n",
              "    </tr>\n",
              "    <tr>\n",
              "      <th>887</th>\n",
              "      <th>0</th>\n",
              "      <td>$ 30.0</td>\n",
              "    </tr>\n",
              "    <tr>\n",
              "      <th>888</th>\n",
              "      <th>0</th>\n",
              "      <td>$ 23.45</td>\n",
              "    </tr>\n",
              "    <tr>\n",
              "      <th>889</th>\n",
              "      <th>0</th>\n",
              "      <td>$ 30.0</td>\n",
              "    </tr>\n",
              "    <tr>\n",
              "      <th>890</th>\n",
              "      <th>0</th>\n",
              "      <td>$ 7.75</td>\n",
              "    </tr>\n",
              "  </tbody>\n",
              "</table>\n",
              "<p>889 rows × 1 columns</p>\n",
              "</div>"
            ],
            "text/plain": [
              "                   0\n",
              "    match           \n",
              "0   0         $ 7.25\n",
              "1   0      $ 71.2833\n",
              "2   0        $ 7.925\n",
              "3   0         $ 53.1\n",
              "4   0         $ 8.05\n",
              "...              ...\n",
              "886 0         $ 13.0\n",
              "887 0         $ 30.0\n",
              "888 0        $ 23.45\n",
              "889 0         $ 30.0\n",
              "890 0         $ 7.75\n",
              "\n",
              "[889 rows x 1 columns]"
            ]
          },
          "metadata": {},
          "execution_count": 121
        }
      ]
    },
    {
      "cell_type": "code",
      "metadata": {
        "id": "ycX6sb5ddWsy",
        "outputId": "6d43cf0f-5d55-41d5-afaa-e4cbe089b5e8",
        "colab": {
          "base_uri": "https://localhost:8080/",
          "height": 455
        }
      },
      "source": [
        "row = 0\n",
        "match = 1 # second match\n",
        "ti['ticket'].str.extractall('(\\$ [0-9][0-9]+\\.[0-9]+)')#.loc[row, 0]"
      ],
      "execution_count": 118,
      "outputs": [
        {
          "output_type": "execute_result",
          "data": {
            "text/html": [
              "<div>\n",
              "<style scoped>\n",
              "    .dataframe tbody tr th:only-of-type {\n",
              "        vertical-align: middle;\n",
              "    }\n",
              "\n",
              "    .dataframe tbody tr th {\n",
              "        vertical-align: top;\n",
              "    }\n",
              "\n",
              "    .dataframe thead th {\n",
              "        text-align: right;\n",
              "    }\n",
              "</style>\n",
              "<table border=\"1\" class=\"dataframe\">\n",
              "  <thead>\n",
              "    <tr style=\"text-align: right;\">\n",
              "      <th></th>\n",
              "      <th></th>\n",
              "      <th>0</th>\n",
              "    </tr>\n",
              "    <tr>\n",
              "      <th></th>\n",
              "      <th>match</th>\n",
              "      <th></th>\n",
              "    </tr>\n",
              "  </thead>\n",
              "  <tbody>\n",
              "    <tr>\n",
              "      <th>1</th>\n",
              "      <th>0</th>\n",
              "      <td>$ 71.2833</td>\n",
              "    </tr>\n",
              "    <tr>\n",
              "      <th>3</th>\n",
              "      <th>0</th>\n",
              "      <td>$ 53.1</td>\n",
              "    </tr>\n",
              "    <tr>\n",
              "      <th>6</th>\n",
              "      <th>0</th>\n",
              "      <td>$ 51.8625</td>\n",
              "    </tr>\n",
              "    <tr>\n",
              "      <th>7</th>\n",
              "      <th>0</th>\n",
              "      <td>$ 21.075</td>\n",
              "    </tr>\n",
              "    <tr>\n",
              "      <th>8</th>\n",
              "      <th>0</th>\n",
              "      <td>$ 11.1333</td>\n",
              "    </tr>\n",
              "    <tr>\n",
              "      <th>...</th>\n",
              "      <th>...</th>\n",
              "      <td>...</td>\n",
              "    </tr>\n",
              "    <tr>\n",
              "      <th>885</th>\n",
              "      <th>0</th>\n",
              "      <td>$ 29.125</td>\n",
              "    </tr>\n",
              "    <tr>\n",
              "      <th>886</th>\n",
              "      <th>0</th>\n",
              "      <td>$ 13.0</td>\n",
              "    </tr>\n",
              "    <tr>\n",
              "      <th>887</th>\n",
              "      <th>0</th>\n",
              "      <td>$ 30.0</td>\n",
              "    </tr>\n",
              "    <tr>\n",
              "      <th>888</th>\n",
              "      <th>0</th>\n",
              "      <td>$ 23.45</td>\n",
              "    </tr>\n",
              "    <tr>\n",
              "      <th>889</th>\n",
              "      <th>0</th>\n",
              "      <td>$ 30.0</td>\n",
              "    </tr>\n",
              "  </tbody>\n",
              "</table>\n",
              "<p>553 rows × 1 columns</p>\n",
              "</div>"
            ],
            "text/plain": [
              "                   0\n",
              "    match           \n",
              "1   0      $ 71.2833\n",
              "3   0         $ 53.1\n",
              "6   0      $ 51.8625\n",
              "7   0       $ 21.075\n",
              "8   0      $ 11.1333\n",
              "...              ...\n",
              "885 0       $ 29.125\n",
              "886 0         $ 13.0\n",
              "887 0         $ 30.0\n",
              "888 0        $ 23.45\n",
              "889 0         $ 30.0\n",
              "\n",
              "[553 rows x 1 columns]"
            ]
          },
          "metadata": {},
          "execution_count": 118
        }
      ]
    },
    {
      "cell_type": "code",
      "metadata": {
        "id": "isvv49PIdWsy"
      },
      "source": [
        ""
      ],
      "execution_count": null,
      "outputs": []
    }
  ]
}