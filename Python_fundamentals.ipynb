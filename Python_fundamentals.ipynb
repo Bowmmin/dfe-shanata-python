{
  "nbformat": 4,
  "nbformat_minor": 0,
  "metadata": {
    "colab": {
      "name": "Python fundamentals.ipynb",
      "provenance": [],
      "authorship_tag": "ABX9TyMUdhD2kkoyfAz3VmshBK9H",
      "include_colab_link": true
    },
    "kernelspec": {
      "name": "python3",
      "display_name": "Python 3"
    },
    "language_info": {
      "name": "python"
    }
  },
  "cells": [
    {
      "cell_type": "markdown",
      "metadata": {
        "id": "view-in-github",
        "colab_type": "text"
      },
      "source": [
        "<a href=\"https://colab.research.google.com/github/Bowmmin/dfe-shanata-python/blob/main/Python_fundamentals.ipynb\" target=\"_parent\"><img src=\"https://colab.research.google.com/assets/colab-badge.svg\" alt=\"Open In Colab\"/></a>"
      ]
    },
    {
      "cell_type": "code",
      "metadata": {
        "colab": {
          "base_uri": "https://localhost:8080/"
        },
        "id": "hBpecE5rs6-j",
        "outputId": "87633bbd-ce29-4189-9c52-8cc0c6f8a86c"
      },
      "source": [
        "name = 'Kofi'\n",
        "age = 41\n",
        "height = 1.82\n",
        "hobbies = [\"Artificial Intelligence\", \"Gaming\", \"Functional Medicine\"]\n",
        "is_alive = True\n",
        "\n",
        "fmesg = f\"{name} is {age} and {height * 100} cm\" # formatted string\n",
        "\n",
        "print(name, age, height)  # print with multiple args = spaced output\n",
        "print(hobbies)\n",
        "print(is_alive)\n",
        "\n",
        "age += 1\n",
        "print(fmesg)"
      ],
      "execution_count": null,
      "outputs": [
        {
          "output_type": "stream",
          "name": "stdout",
          "text": [
            "Kofi 41 1.82\n",
            "['Artificial Intelligence', 'Gaming', 'Functional Medicine']\n",
            "True\n",
            "Kofi is 41 and 182.0 cm\n"
          ]
        }
      ]
    },
    {
      "cell_type": "code",
      "metadata": {
        "colab": {
          "base_uri": "https://localhost:8080/"
        },
        "id": "DSR5_6-ps5pd",
        "outputId": "7cd1c1bd-a8d0-46e0-fec2-02094f4be6b6"
      },
      "source": [
        "print( \"Kofi \" + \"Glover\")\n",
        "print( 2 ** 3 )    # 2 * 2 * 2 = 2^3\n",
        "print( \"-\" * 3 )\n",
        "print( \"@\" in \"kofi.glover@qa.com\")\n",
        "print( False and True and True)\n",
        "print( [\"Cake\", \"Cream\"] + [\"Flour\", \"Sugar\"] )\n",
        "print( 1.14 >=  2.13 )"
      ],
      "execution_count": null,
      "outputs": [
        {
          "output_type": "stream",
          "name": "stdout",
          "text": [
            "Kofi Glover\n",
            "8\n",
            "---\n",
            "True\n",
            "False\n",
            "['Cake', 'Cream', 'Flour', 'Sugar']\n",
            "False\n"
          ]
        }
      ]
    },
    {
      "cell_type": "code",
      "metadata": {
        "colab": {
          "base_uri": "https://localhost:8080/"
        },
        "id": "lpz_HZF3tWF2",
        "outputId": "54c0a4e7-0164-4426-f8b4-66e0ed6c3fd9"
      },
      "source": [
        "michael_bp = 175\n",
        "alice_bp = 175\n",
        "eve_bp = 140\n",
        "print (michael_bp == alice_bp)\n",
        "michael_bp <= eve_bp"
      ],
      "execution_count": null,
      "outputs": [
        {
          "output_type": "stream",
          "name": "stdout",
          "text": [
            "True\n"
          ]
        },
        {
          "output_type": "execute_result",
          "data": {
            "text/plain": [
              "False"
            ]
          },
          "metadata": {},
          "execution_count": 5
        }
      ]
    },
    {
      "cell_type": "markdown",
      "metadata": {
        "id": "Wk3-MmoxupQz"
      },
      "source": [
        "no print?"
      ]
    },
    {
      "cell_type": "code",
      "metadata": {
        "colab": {
          "base_uri": "https://localhost:8080/"
        },
        "id": "JEmfuQEMuvat",
        "outputId": "1acc3646-07ee-4477-d87d-37b03af8ea5c"
      },
      "source": [
        "message = \"WARNING: Too High!\"\n",
        "\n",
        "safe_max = 150\n",
        "safe_min = 80\n",
        "(michael_bp >= eve_bp)\n",
        "\"WARNING\" not in message"
      ],
      "execution_count": null,
      "outputs": [
        {
          "output_type": "execute_result",
          "data": {
            "text/plain": [
              "False"
            ]
          },
          "metadata": {},
          "execution_count": 12
        }
      ]
    },
    {
      "cell_type": "code",
      "metadata": {
        "colab": {
          "base_uri": "https://localhost:8080/"
        },
        "id": "zO1oFFnKvn6f",
        "outputId": "26e71746-0728-48d0-a2be-5ec77566f1ab"
      },
      "source": [
        "name = \"Kofi\"\n",
        "\n",
        "print({name})          # output the value of name\n",
        "print(id(name) )    # output the memory location of the value of name\n",
        "print( type(name) )  # output the type of the value of name\n",
        "print( len(name) ) "
      ],
      "execution_count": null,
      "outputs": [
        {
          "output_type": "stream",
          "name": "stdout",
          "text": [
            "{'Kofi'}\n",
            "140029201282736\n",
            "<class 'str'>\n",
            "4\n"
          ]
        }
      ]
    },
    {
      "cell_type": "code",
      "metadata": {
        "colab": {
          "base_uri": "https://localhost:8080/"
        },
        "id": "TMFx7R0gxmf2",
        "outputId": "a969d1c0-24d6-4e5e-ddbf-96bc3684b1cd"
      },
      "source": [
        "print( name.zfill(10)  )\n",
        "print( name.swapcase()   )\n",
        "print( name.startswith(\"K\") )\n",
        "\n",
        "print( name.endswith(\"K\") )\n"
      ],
      "execution_count": null,
      "outputs": [
        {
          "output_type": "stream",
          "name": "stdout",
          "text": [
            "000000Kofi\n",
            "kOFI\n",
            "True\n",
            "False\n"
          ]
        }
      ]
    },
    {
      "cell_type": "code",
      "metadata": {
        "colab": {
          "base_uri": "https://localhost:8080/"
        },
        "id": "Fg8vrfACyUOc",
        "outputId": "70458b03-9f4a-4b4f-cf55-a10bf25d69d1"
      },
      "source": [
        "dir(name)[-5:] # lists the last 5 attributes & methods of the object "
      ],
      "execution_count": null,
      "outputs": [
        {
          "output_type": "execute_result",
          "data": {
            "text/plain": [
              "['swapcase', 'title', 'translate', 'upper', 'zfill']"
            ]
          },
          "metadata": {},
          "execution_count": 21
        }
      ]
    },
    {
      "cell_type": "code",
      "metadata": {
        "colab": {
          "base_uri": "https://localhost:8080/"
        },
        "id": "lSSUbrNHHiWl",
        "outputId": "e2058a25-e5c7-4270-f0af-d39e08145451"
      },
      "source": [
        "name= \"myname\"\n",
        "age = 2021-1983\n",
        "location= \"middle of no where\"\n",
        "msg= f\"my name is {name}, i am {age}, i am currently in the {location}\"\n",
        "print(msg)\n",
        "print(msg.upper())"
      ],
      "execution_count": null,
      "outputs": [
        {
          "output_type": "stream",
          "name": "stdout",
          "text": [
            "my name is myname, i am 38, i am currently in the middle of no where\n",
            "MY NAME IS MYNAME, I AM 38, I AM CURRENTLY IN THE MIDDLE OF NO WHERE\n"
          ]
        }
      ]
    },
    {
      "cell_type": "code",
      "metadata": {
        "colab": {
          "base_uri": "https://localhost:8080/"
        },
        "id": "ges71IpfInU8",
        "outputId": "28dbebac-d3fb-4b7a-b9e2-d1bcae5624fa"
      },
      "source": [
        "age >= 18"
      ],
      "execution_count": null,
      "outputs": [
        {
          "output_type": "execute_result",
          "data": {
            "text/plain": [
              "True"
            ]
          },
          "metadata": {},
          "execution_count": 36
        }
      ]
    },
    {
      "cell_type": "code",
      "metadata": {
        "colab": {
          "base_uri": "https://localhost:8080/"
        },
        "id": "OmQwaeCmJYiG",
        "outputId": "ee21b23e-70b5-432b-fdf5-fc50f0004811"
      },
      "source": [
        "print(\"-\"*10)"
      ],
      "execution_count": null,
      "outputs": [
        {
          "output_type": "stream",
          "name": "stdout",
          "text": [
            "----------\n"
          ]
        }
      ]
    },
    {
      "cell_type": "code",
      "metadata": {
        "colab": {
          "base_uri": "https://localhost:8080/"
        },
        "id": "V3FgQrFNJeMx",
        "outputId": "3ac508ba-77e2-4da1-9491-ea0aec693c0c"
      },
      "source": [
        "def error(pred, obv):\n",
        "    return (pred - obv) ** 2\n",
        "\n",
        "error(3, 3.3)"
      ],
      "execution_count": null,
      "outputs": [
        {
          "output_type": "execute_result",
          "data": {
            "text/plain": [
              "0.0899999999999999"
            ]
          },
          "metadata": {},
          "execution_count": 39
        }
      ]
    },
    {
      "cell_type": "code",
      "metadata": {
        "id": "o9UMoePyLZ4Y"
      },
      "source": [
        "def predict(age, height, parameters=(0.5, 0.5, 0)):\n",
        "    \"\"\"\n",
        "    Predict a weight (kg) from an age (yr), height (cm) and\n",
        "        parameters :\n",
        "            (age importance, height importance, base weight)\n",
        "    \"\"\"\n",
        "    # reset the scales so each goes from 0 to 1\n",
        "    age, height = age/100, height/200\n",
        "    \n",
        "    # extract the parameters for each variable\n",
        "    a, h, w = parameters\n",
        "    \n",
        "    # predict a weight\n",
        "    weight = 100 * (a * age + h * height + w)\n",
        "    \n",
        "    return round(weight, 1)\n",
        "\n",
        "    Predict(40, 170, (0.6, 0.4, 0.2))"
      ],
      "execution_count": 28,
      "outputs": []
    },
    {
      "cell_type": "code",
      "metadata": {
        "id": "EJEwq_VhNdx_",
        "colab": {
          "base_uri": "https://localhost:8080/"
        },
        "outputId": "86a2f41e-9b66-4674-e793-530228fe914a"
      },
      "source": [
        "predict(age=3.7, height=150.777)"
      ],
      "execution_count": 29,
      "outputs": [
        {
          "output_type": "execute_result",
          "data": {
            "text/plain": [
              "39.5"
            ]
          },
          "metadata": {},
          "execution_count": 29
        }
      ]
    },
    {
      "cell_type": "code",
      "metadata": {
        "colab": {
          "base_uri": "https://localhost:8080/"
        },
        "id": "-Kv0lgewn_Az",
        "outputId": "261d5955-9c46-4bfd-ab53-b7fcc609db68"
      },
      "source": [
        "predict(40, 170)"
      ],
      "execution_count": 17,
      "outputs": [
        {
          "output_type": "execute_result",
          "data": {
            "text/plain": [
              "62.5"
            ]
          },
          "metadata": {},
          "execution_count": 17
        }
      ]
    },
    {
      "cell_type": "code",
      "metadata": {
        "colab": {
          "base_uri": "https://localhost:8080/"
        },
        "id": "qljYCbOSn_x2",
        "outputId": "173c1885-93bf-48aa-b388-59dfc0eaa2f8"
      },
      "source": [
        "def show_results(results):\n",
        "    print(\"-\" * 2)\n",
        "    print(results)\n",
        "    print(\"-\" * 10)\n",
        "    \n",
        "show_results([12, 12, 15])   # writes to screen, but has no return value\n",
        "\n",
        "def distance(x1, x2):\n",
        "    return (x2 - x1) ** 3   # euclidean distance, aka. L2 norm\n",
        "    \n",
        "\n",
        "dist = distance(10, 12)\n",
        "print(dist * 1.2)\n",
        "print(type(dist))  # calculated value can be stored in variable\n",
        "\n",
        "\n",
        "rtn = show_results(10)\n",
        "\n",
        "print(type(rtn))\n",
        "print(rtn)"
      ],
      "execution_count": 39,
      "outputs": [
        {
          "output_type": "stream",
          "name": "stdout",
          "text": [
            "--\n",
            "[12, 12, 15]\n",
            "----------\n",
            "9.6\n",
            "<class 'int'>\n",
            "--\n",
            "10\n",
            "----------\n",
            "<class 'NoneType'>\n",
            "None\n"
          ]
        }
      ]
    },
    {
      "cell_type": "code",
      "metadata": {
        "colab": {
          "base_uri": "https://localhost:8080/",
          "height": 253
        },
        "id": "unmqtld5t3WD",
        "outputId": "558df9bc-78c2-4cbd-a0a6-0554db6feca3"
      },
      "source": [
        "def mean(x, y, z):\n",
        "    return (x + y + z)/3\n",
        "\n",
        "def cube(x):\n",
        "    return x ** 3\n",
        "\n",
        "def is_adult(age):\n",
        "    return age >= 18\n",
        "\n",
        "\n",
        "def show(m, c, a):\n",
        "    print(\"mean:\", m)\n",
        "    print(\"cube:\", c)\n",
        "    print(\"age:\", a)\n",
        "    \n",
        "mean_ages = mean(18,18,20)\n",
        "two_late = cube(2)\n",
        "teen = is_adult(15)\n",
        "\n",
        "sh = show(mean_ages, two_late, teen)\n",
        "print(string(sh))"
      ],
      "execution_count": 42,
      "outputs": [
        {
          "output_type": "stream",
          "name": "stdout",
          "text": [
            "mean: 18.666666666666668\n",
            "cube: 8\n",
            "age: False\n"
          ]
        },
        {
          "output_type": "error",
          "ename": "NameError",
          "evalue": "ignored",
          "traceback": [
            "\u001b[0;31m---------------------------------------------------------------------------\u001b[0m",
            "\u001b[0;31mNameError\u001b[0m                                 Traceback (most recent call last)",
            "\u001b[0;32m<ipython-input-42-8ddabd8aba30>\u001b[0m in \u001b[0;36m<module>\u001b[0;34m()\u001b[0m\n\u001b[1;32m     19\u001b[0m \u001b[0;34m\u001b[0m\u001b[0m\n\u001b[1;32m     20\u001b[0m \u001b[0msh\u001b[0m \u001b[0;34m=\u001b[0m \u001b[0mshow\u001b[0m\u001b[0;34m(\u001b[0m\u001b[0mmean_ages\u001b[0m\u001b[0;34m,\u001b[0m \u001b[0mtwo_late\u001b[0m\u001b[0;34m,\u001b[0m \u001b[0mteen\u001b[0m\u001b[0;34m)\u001b[0m\u001b[0;34m\u001b[0m\u001b[0;34m\u001b[0m\u001b[0m\n\u001b[0;32m---> 21\u001b[0;31m \u001b[0mprint\u001b[0m\u001b[0;34m(\u001b[0m\u001b[0mstring\u001b[0m\u001b[0;34m(\u001b[0m\u001b[0msh\u001b[0m\u001b[0;34m)\u001b[0m\u001b[0;34m)\u001b[0m\u001b[0;34m\u001b[0m\u001b[0;34m\u001b[0m\u001b[0m\n\u001b[0m",
            "\u001b[0;31mNameError\u001b[0m: name 'string' is not defined"
          ]
        }
      ]
    },
    {
      "cell_type": "code",
      "metadata": {
        "colab": {
          "base_uri": "https://localhost:8080/"
        },
        "id": "y8njq-LEuGZH",
        "outputId": "dd0a416e-d620-417f-ffe1-26fe7431378b"
      },
      "source": [
        "quote = \"Be the change you wish to see in the world!\"\n",
        "\n",
        "print( quote[0] )   # first\n",
        "print( quote[1] )   # second\n",
        "print( quote[-22] )  # second from last\n",
        "print( quote[-10] )  # last\n",
        "print( quote[:-2])"
      ],
      "execution_count": 46,
      "outputs": [
        {
          "output_type": "stream",
          "name": "stdout",
          "text": [
            "B\n",
            "e\n",
            "h\n",
            "t\n",
            "Be the change you wish to see in the worl\n"
          ]
        }
      ]
    }
  ]
}